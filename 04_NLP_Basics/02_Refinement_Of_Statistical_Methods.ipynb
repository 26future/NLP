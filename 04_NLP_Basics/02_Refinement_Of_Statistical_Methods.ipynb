{
 "cells": [
  {
   "cell_type": "markdown",
   "metadata": {},
   "source": [
    "## 통계 기반 기법 개선하기\n",
    "## PMI : 점별 상호 정보량(Pointwise Mutual Information), log 함수\n",
    "#### 높을수록 관련성이 높다\n",
    "\n",
    "![image](https://t1.daumcdn.net/cfile/tistory/267AA340587EFB8737)\n",
    "### PPMI(Positive PMI) : 양의 상호 정보량,  PPMI(x,y) = max(0,PMI(x,y))"
   ]
  },
  {
   "cell_type": "code",
   "execution_count": 1,
   "metadata": {},
   "outputs": [],
   "source": [
    "from mynlp import preprocess, create_co_matrix, cos_similarity, most_similar\n",
    "import numpy as np"
   ]
  },
  {
   "cell_type": "code",
   "execution_count": 4,
   "metadata": {},
   "outputs": [
    {
     "name": "stdout",
     "output_type": "stream",
     "text": [
      "[0 1 2 3 4 1 5 6]\n",
      "{'you': 0, 'say': 1, 'goodbye': 2, 'and': 3, 'i': 4, 'hello': 5, '.': 6}\n",
      "동시발생행렬:\n",
      " [[0 1 0 0 0 0 0]\n",
      " [1 0 1 0 1 1 0]\n",
      " [0 1 0 1 0 0 0]\n",
      " [0 0 1 0 1 0 0]\n",
      " [0 1 0 1 0 0 0]\n",
      " [0 1 0 0 0 0 1]\n",
      " [0 0 0 0 0 1 0]]\n",
      "(7, 7)\n"
     ]
    }
   ],
   "source": [
    "my_text = 'You say goodbye and I say hello.' \n",
    "corpus, word_to_id, id_to_word = preprocess(my_text)\n",
    "print(corpus)\n",
    "print(word_to_id)\n",
    "vocab_size = len(word_to_id)  # 7\n",
    "C = create_co_matrix(corpus, vocab_size)\n",
    "print('동시발생행렬:\\n',C)\n",
    "print(C.shape)"
   ]
  },
  {
   "cell_type": "markdown",
   "metadata": {},
   "source": [
    "### PPMI 행렬"
   ]
  },
  {
   "cell_type": "code",
   "execution_count": 16,
   "metadata": {},
   "outputs": [
    {
     "name": "stdout",
     "output_type": "stream",
     "text": [
      "14\n",
      "[1 4 2 2 2 2 1]\n",
      "PPMI:\n",
      " [[0.        1.8073549 0.        0.        0.        0.        0.       ]\n",
      " [1.8073549 0.        0.8073549 0.        0.8073549 0.8073549 0.       ]\n",
      " [0.        0.8073549 0.        1.8073549 0.        0.        0.       ]\n",
      " [0.        0.        1.8073549 0.        1.8073549 0.        0.       ]\n",
      " [0.        0.8073549 0.        1.8073549 0.        0.        0.       ]\n",
      " [0.        0.8073549 0.        0.        0.        0.        2.807355 ]\n",
      " [0.        0.        0.        0.        0.        2.807355  0.       ]]\n",
      "C:\n",
      " [[0 1 0 0 0 0 0]\n",
      " [1 0 1 0 1 1 0]\n",
      " [0 1 0 1 0 0 0]\n",
      " [0 0 1 0 1 0 0]\n",
      " [0 1 0 1 0 0 0]\n",
      " [0 1 0 0 0 0 1]\n",
      " [0 0 0 0 0 1 0]]\n"
     ]
    }
   ],
   "source": [
    "M = np.zeros_like(C, dtype=np.float32)  # (7,7)\n",
    "\n",
    "N = np.sum(C)  # 14, 전체 발생 횟수(동시발생행렬 요소 전체의 합)\n",
    "print(N)\n",
    "\n",
    "S = np.sum(C, axis=0)  # 동시발생행렬 요소의 수직 방향의 합\n",
    "print(S)\n",
    "\n",
    "total = C.shape[0]*C.shape[1]  # 49, 동시발생행렬 요소의 총 갯수\n",
    "\n",
    "for i in range(C.shape[0]):\n",
    "    for j in range(C.shape[1]):\n",
    "        # C[i,j] : 동시발생행렬의 요소한개의 값, 비교하려는 두 단어의 동시발생횟수\n",
    "        # S[0] : 동시발생행렬에서 열의 'you' 단어의 동시 발생횟수\n",
    "        # S[i] : 동시발생행렬에서 열의 한 단어의 동시 발생횟수 , 비교하려는 두단어 중 하나 ,x\n",
    "        # S[j] : 동시발생행렬에서 열 한 단어에 대해 비교하려는 나머지 단어들의 동시 발생횟수, y\n",
    "        # print(i,j,C[i,j])\n",
    "        # print('S[%d]:'%i,S[i],'S[%d]:'%j,S[j])\n",
    "        \n",
    "        pmi = np.log2(C[i,j]*N / (S[i]*S[j]) + 1e-8)\n",
    "        M[i,j] = max(0,pmi)\n",
    "\n",
    "print('PPMI:\\n',M)  # PPMI 행렬로 변환\n",
    "print('C:\\n',C)"
   ]
  },
  {
   "cell_type": "code",
   "execution_count": 47,
   "metadata": {},
   "outputs": [],
   "source": [
    "# PPMI 행렬 변환 함수 구현\n",
    "def ppmi(C, verbose=False, eps=1e-8):\n",
    "    M =  np.zeros_like(C, dtype=np.float32) \n",
    "    N = np.sum(C)  \n",
    "    S = np.sum(C,axis=0)\n",
    "    total = C.shape[0]*C.shape[1]  \n",
    "    \n",
    "    cnt = 0\n",
    "\n",
    "    for i in range(C.shape[0]) : \n",
    "        for j in range(C.shape[1]) :\n",
    "            pmi = np.log2(C[i,j]*N /(S[i]*S[j]) + eps)\n",
    "            M[i,j] = max(0,pmi)\n",
    "            \n",
    "            if verbose:\n",
    "                cnt += 1\n",
    "                if cnt % (total//100) == 0 : # total 이 100 보다 클 때만 사용\n",
    "                    print('%.1f%% 완료'% (100*cnt/total))            \n",
    "    return M"
   ]
  },
  {
   "cell_type": "code",
   "execution_count": 48,
   "metadata": {},
   "outputs": [
    {
     "name": "stdout",
     "output_type": "stream",
     "text": [
      "[[0.   1.81 0.   0.   0.   0.   0.  ]\n",
      " [1.81 0.   0.81 0.   0.81 0.81 0.  ]\n",
      " [0.   0.81 0.   1.81 0.   0.   0.  ]\n",
      " [0.   0.   1.81 0.   1.81 0.   0.  ]\n",
      " [0.   0.81 0.   1.81 0.   0.   0.  ]\n",
      " [0.   0.81 0.   0.   0.   0.   2.81]\n",
      " [0.   0.   0.   0.   0.   2.81 0.  ]]\n"
     ]
    }
   ],
   "source": [
    "my_text = 'You say goodbye and I say hello.' \n",
    "corpus, word_to_id, id_to_word = preprocess(my_text)\n",
    "# print(corpus)\n",
    "# print(word_to_id)\n",
    "vocab_size = len(word_to_id)  # 7\n",
    "C = create_co_matrix(corpus, vocab_size)\n",
    "\n",
    "W = ppmi(C)\n",
    "print(W) # 동시발생행렬보다 좀더 나은 확률에 기반한 PPMI행렬로 변환되었다"
   ]
  },
  {
   "cell_type": "markdown",
   "metadata": {},
   "source": [
    "### SVD(Singular Value Decomposition, 특잇값분해) 에 의한 차원의 축소"
   ]
  },
  {
   "cell_type": "markdown",
   "metadata": {},
   "source": [
    "#### 차원 축소 알고리즘 정리\n",
    "- PCA(Principal Component Analysis,주성분 분석) : 데이터의 분산(variance)을 최대한 보존하면서 서로 직교하는 새 기저(축)를 찾아, 고차원 공간의 표본들을 선형 연관성이 없는 저차원 공간으로 변환하는 기법, 정방행렬인 공분산행렬(covariance matrix)을 고유벡터(eigenvector)로 분해한다\n",
    "\n",
    " https://ratsgo.github.io/machine%20learning/2017/04/24/PCA/ \n",
    "<br>\n",
    "\n",
    "- SVD(Singular Value Decomposition, 특잇값분해) : 임의의 행렬을 세 행렬의 곱으로 분해\n",
    "\n",
    "$$ X=USV^T $$\n",
    "      \n",
    "   https://angeloyeo.github.io/2019/08/01/SVD.html\n",
    "  \n",
    "   https://darkpgmr.tistory.com/106 \n",
    "\n",
    "[노트북문서화작업]\n",
    "\n",
    "http://www.onemathematicalcat.org/MathJaxDocumentation/MathJaxKorean/TeXSyntax_ko.html\n"
   ]
  },
  {
   "cell_type": "code",
   "execution_count": 49,
   "metadata": {},
   "outputs": [
    {
     "name": "stdout",
     "output_type": "stream",
     "text": [
      "[[0.   1.81 0.   0.   0.   0.   0.  ]\n",
      " [1.81 0.   0.81 0.   0.81 0.81 0.  ]\n",
      " [0.   0.81 0.   1.81 0.   0.   0.  ]\n",
      " [0.   0.   1.81 0.   1.81 0.   0.  ]\n",
      " [0.   0.81 0.   1.81 0.   0.   0.  ]\n",
      " [0.   0.81 0.   0.   0.   0.   2.81]\n",
      " [0.   0.   0.   0.   0.   2.81 0.  ]]\n"
     ]
    }
   ],
   "source": [
    "print(W)"
   ]
  },
  {
   "cell_type": "code",
   "execution_count": 50,
   "metadata": {},
   "outputs": [
    {
     "name": "stdout",
     "output_type": "stream",
     "text": [
      "[[-3.41e-01 -1.11e-16 -3.89e-16 -1.21e-01  0.00e+00  9.32e-01  2.23e-16]\n",
      " [ 0.00e+00 -5.98e-01  1.80e-01  0.00e+00 -7.81e-01  0.00e+00  0.00e+00]\n",
      " [-4.36e-01 -4.24e-17 -2.17e-16 -5.09e-01 -1.77e-17 -2.25e-01 -7.07e-01]\n",
      " [-2.61e-16 -4.98e-01  6.80e-01 -6.57e-17  5.38e-01  9.95e-17  1.20e-17]\n",
      " [-4.36e-01 -3.23e-17 -1.65e-16 -5.09e-01 -1.35e-17 -2.25e-01  7.07e-01]\n",
      " [-7.09e-01 -3.23e-17 -1.65e-16  6.84e-01 -1.35e-17 -1.71e-01  5.89e-17]\n",
      " [ 3.06e-16 -6.28e-01 -7.10e-01  8.85e-17  3.17e-01 -2.85e-16 -1.55e-17]]\n"
     ]
    }
   ],
   "source": [
    "U,S,V = np.linalg.svd(W)  # PPMI 행렬 W를 밀집 벡터 U로 변환\n",
    "\n",
    "np.set_printoptions(precision=2)\n",
    "print(U)"
   ]
  },
  {
   "cell_type": "code",
   "execution_count": 51,
   "metadata": {},
   "outputs": [
    {
     "name": "stdout",
     "output_type": "stream",
     "text": [
      "[[-3.41e-01 -1.11e-16]\n",
      " [ 0.00e+00 -5.98e-01]\n",
      " [-4.36e-01 -4.24e-17]\n",
      " [-2.61e-16 -4.98e-01]\n",
      " [-4.36e-01 -3.23e-17]\n",
      " [-7.09e-01 -3.23e-17]\n",
      " [ 3.06e-16 -6.28e-01]]\n"
     ]
    }
   ],
   "source": [
    "# 차원을 줄이려면 처음 2개의 요소를 꺼내면 된다\n",
    "print(U[:,:2])  # (7, 7) --> (7, 2)로 축소됨"
   ]
  },
  {
   "cell_type": "code",
   "execution_count": 52,
   "metadata": {},
   "outputs": [
    {
     "name": "stdout",
     "output_type": "stream",
     "text": [
      "you 0\n",
      "say 1\n",
      "goodbye 2\n",
      "and 3\n",
      "i 4\n",
      "hello 5\n",
      ". 6\n"
     ]
    },
    {
     "data": {
      "image/png": "[encoded data removed]",
      "text/plain": [
       "<Figure size 432x288 with 1 Axes>"
      ]
     },
     "metadata": {
      "needs_background": "light"
     },
     "output_type": "display_data"
    }
   ],
   "source": [
    "# 시각화\n",
    "import matplotlib.pyplot as plt\n",
    "for word, word_id in word_to_id.items(): # 7회\n",
    "    print(word,word_id)\n",
    "    plt.annotate(word,(U[word_id,0],U[word_id,1]))\n",
    "\n",
    "plt.scatter(U[:,0],U[:,1], alpha=0.5)\n",
    "plt.show()\n",
    "\n",
    "# ('goodbye', 2) : [-4.36e-01 -4.24e-17]\n",
    "#     ('i', 4)   : [-4.36e-01 -3.23e-17] , 두 개의 좌표값이 거의 동일하여 그래프에 i가 안보임\n",
    "\n",
    "# 'goodbye'와 'hello', 'you'와 'i' 가 비교적 가까이 있음, 말뭉치 데이터셋이 아주 적어서 신뢰할 수 없음"
   ]
  },
  {
   "cell_type": "code",
   "execution_count": 53,
   "metadata": {},
   "outputs": [
    {
     "data": {
      "text/plain": [
       "dict_items([('you', 0), ('say', 1), ('goodbye', 2), ('and', 3), ('i', 4), ('hello', 5), ('.', 6)])"
      ]
     },
     "execution_count": 53,
     "metadata": {},
     "output_type": "execute_result"
    }
   ],
   "source": [
    "word_to_id.items()"
   ]
  },
  {
   "cell_type": "markdown",
   "metadata": {},
   "source": [
    "### PTB 데이터셋  : Penn Treebank 말뭉치 , word2vec의 발명자 토마스미콜로프의 웹에 게시\n",
    " https://raw.githubusercontent.com/tomsercu/lstm/master/data/ptb.train.txt"
   ]
  },
  {
   "cell_type": "code",
   "execution_count": 54,
   "metadata": {},
   "outputs": [
    {
     "name": "stdout",
     "output_type": "stream",
     "text": [
      "10000\n",
      "929589\n",
      "동시발생 수 계산...\n",
      "(10000, 10000)\n",
      "[[0 1 1 ... 0 0 0]\n",
      " [1 0 1 ... 0 0 0]\n",
      " [1 1 0 ... 0 0 0]\n",
      " ...\n",
      " [0 0 0 ... 0 0 0]\n",
      " [0 0 0 ... 0 0 0]\n",
      " [0 0 0 ... 0 0 0]]\n"
     ]
    }
   ],
   "source": [
    "from dataset import ptb\n",
    "\n",
    "window_size = 2\n",
    "wordvec_size = 100  # 축소할 차원 수\n",
    "\n",
    "corpus, word_to_id, id_to_word = ptb.load_data('train')\n",
    "vocab_size = len(word_to_id)\n",
    "print(vocab_size)  # 10000\n",
    "print(len(corpus)) # 929589\n",
    "\n",
    "print(\"동시발생 수 계산...\")\n",
    "C = create_co_matrix(corpus,vocab_size,window_size)\n",
    "print(C.shape)  # (10000, 10000)\n",
    "print(C)"
   ]
  },
  {
   "cell_type": "code",
   "execution_count": 55,
   "metadata": {
    "scrolled": false
   },
   "outputs": [
    {
     "name": "stdout",
     "output_type": "stream",
     "text": [
      "PPMI 계산...\n"
     ]
    },
    {
     "name": "stderr",
     "output_type": "stream",
     "text": [
      "C:\\Users\\Wonseok\\Anaconda3\\lib\\site-packages\\ipykernel_launcher.py:12: RuntimeWarning: overflow encountered in long_scalars\n",
      "  if sys.path[0] == '':\n",
      "C:\\Users\\Wonseok\\Anaconda3\\lib\\site-packages\\ipykernel_launcher.py:12: RuntimeWarning: invalid value encountered in log2\n",
      "  if sys.path[0] == '':\n"
     ]
    },
    {
     "name": "stdout",
     "output_type": "stream",
     "text": [
      "1.0% 완료\n",
      "2.0% 완료\n",
      "3.0% 완료\n",
      "4.0% 완료\n",
      "5.0% 완료\n",
      "6.0% 완료\n",
      "7.0% 완료\n",
      "8.0% 완료\n",
      "9.0% 완료\n",
      "10.0% 완료\n",
      "11.0% 완료\n",
      "12.0% 완료\n",
      "13.0% 완료\n",
      "14.0% 완료\n",
      "15.0% 완료\n",
      "16.0% 완료\n",
      "17.0% 완료\n",
      "18.0% 완료\n",
      "19.0% 완료\n",
      "20.0% 완료\n",
      "21.0% 완료\n",
      "22.0% 완료\n",
      "23.0% 완료\n",
      "24.0% 완료\n",
      "25.0% 완료\n",
      "26.0% 완료\n",
      "27.0% 완료\n",
      "28.0% 완료\n",
      "29.0% 완료\n",
      "30.0% 완료\n",
      "31.0% 완료\n",
      "32.0% 완료\n",
      "33.0% 완료\n",
      "34.0% 완료\n",
      "35.0% 완료\n",
      "36.0% 완료\n",
      "37.0% 완료\n",
      "38.0% 완료\n",
      "39.0% 완료\n",
      "40.0% 완료\n",
      "41.0% 완료\n",
      "42.0% 완료\n",
      "43.0% 완료\n",
      "44.0% 완료\n",
      "45.0% 완료\n",
      "46.0% 완료\n",
      "47.0% 완료\n",
      "48.0% 완료\n",
      "49.0% 완료\n",
      "50.0% 완료\n",
      "51.0% 완료\n",
      "52.0% 완료\n",
      "53.0% 완료\n",
      "54.0% 완료\n",
      "55.0% 완료\n",
      "56.0% 완료\n",
      "57.0% 완료\n",
      "58.0% 완료\n",
      "59.0% 완료\n",
      "60.0% 완료\n",
      "61.0% 완료\n",
      "62.0% 완료\n",
      "63.0% 완료\n",
      "64.0% 완료\n",
      "65.0% 완료\n",
      "66.0% 완료\n",
      "67.0% 완료\n",
      "68.0% 완료\n",
      "69.0% 완료\n",
      "70.0% 완료\n",
      "71.0% 완료\n",
      "72.0% 완료\n",
      "73.0% 완료\n",
      "74.0% 완료\n",
      "75.0% 완료\n",
      "76.0% 완료\n",
      "77.0% 완료\n",
      "78.0% 완료\n",
      "79.0% 완료\n",
      "80.0% 완료\n",
      "81.0% 완료\n",
      "82.0% 완료\n",
      "83.0% 완료\n",
      "84.0% 완료\n",
      "85.0% 완료\n",
      "86.0% 완료\n",
      "87.0% 완료\n",
      "88.0% 완료\n",
      "89.0% 완료\n",
      "90.0% 완료\n",
      "91.0% 완료\n",
      "92.0% 완료\n",
      "93.0% 완료\n",
      "94.0% 완료\n",
      "95.0% 완료\n",
      "96.0% 완료\n",
      "97.0% 완료\n",
      "98.0% 완료\n",
      "99.0% 완료\n",
      "100.0% 완료\n"
     ]
    }
   ],
   "source": [
    "print('PPMI 계산...')\n",
    "W = ppmi(C,verbose=True)\n",
    "# 약 8~10분 소요"
   ]
  },
  {
   "cell_type": "code",
   "execution_count": 56,
   "metadata": {},
   "outputs": [
    {
     "name": "stdout",
     "output_type": "stream",
     "text": [
      "(10000, 10000)\n"
     ]
    },
    {
     "data": {
      "text/plain": [
       "array([[ 0.  , 19.24, 18.83, ...,  0.  ,  0.  ,  0.  ],\n",
       "       [19.24,  0.  , 18.24, ...,  0.  ,  0.  ,  0.  ],\n",
       "       [18.83, 18.24,  0.  , ...,  0.  ,  0.  ,  0.  ],\n",
       "       ...,\n",
       "       [ 0.  ,  0.  ,  0.  , ...,  0.  ,  0.  ,  0.  ],\n",
       "       [ 0.  ,  0.  ,  0.  , ...,  0.  ,  0.  ,  0.  ],\n",
       "       [ 0.  ,  0.  ,  0.  , ...,  0.  ,  0.  ,  0.  ]], dtype=float32)"
      ]
     },
     "execution_count": 56,
     "metadata": {},
     "output_type": "execute_result"
    }
   ],
   "source": [
    "print(W.shape)  # (10000, 10000)\n",
    "W"
   ]
  },
  {
   "cell_type": "code",
   "execution_count": 59,
   "metadata": {},
   "outputs": [
    {
     "name": "stdout",
     "output_type": "stream",
     "text": [
      "Calculating SVD...\n",
      "(10000, 100)\n",
      "(10000, 100)\n"
     ]
    },
    {
     "data": {
      "text/plain": [
       "array([[-1.39e-10,  8.15e-07,  2.74e-07, ..., -2.52e-05, -2.17e-05,\n",
       "         5.60e-05],\n",
       "       [-7.80e-12, -7.36e-09, -5.14e-09, ..., -3.87e-05, -2.61e-05,\n",
       "         8.41e-05],\n",
       "       [-1.23e-11,  1.11e-08, -6.00e-08, ..., -7.35e-05, -3.83e-05,\n",
       "         1.09e-04],\n",
       "       ...,\n",
       "       [ 4.43e-03, -6.48e-03,  1.15e-02, ..., -1.51e-03,  1.74e-03,\n",
       "         2.36e-03],\n",
       "       [ 2.46e-03, -4.92e-03,  8.03e-03, ...,  1.43e-03, -2.93e-03,\n",
       "        -3.88e-03],\n",
       "       [ 3.89e-03, -7.84e-03,  8.08e-03, ...,  7.55e-03, -8.91e-03,\n",
       "         1.05e-03]], dtype=float32)"
      ]
     },
     "execution_count": 59,
     "metadata": {},
     "output_type": "execute_result"
    }
   ],
   "source": [
    "# SVD 사용 차원 축소\n",
    "print('Calculating SVD...')\n",
    "\n",
    "# numpy : 속도가 느리다\n",
    "# U,S,V = np.linalg.svd(W)\n",
    "\n",
    "# Truncated SVD : 속도가 빠르다\n",
    "from sklearn.utils.extmath import randomized_svd\n",
    "\n",
    "U,S,V = randomized_svd(W,n_components=wordvec_size,n_iter=5,random_state=None)  # 100개로 차원 축소\n",
    "\n",
    "print(U.shape)  # (10000, 100)\n",
    "\n",
    "word_vecs = U[:,:wordvec_size]\n",
    "print(word_vecs.shape)  # (10000, 100)\n",
    "word_vecs"
   ]
  },
  {
   "cell_type": "code",
   "execution_count": 60,
   "metadata": {},
   "outputs": [
    {
     "name": "stdout",
     "output_type": "stream",
     "text": [
      "\n",
      "[query] say\n",
      " believe: 0.6123064160346985\n",
      " contend: 0.5578373670578003\n",
      " argue: 0.5389249920845032\n",
      " expect: 0.5313212871551514\n",
      " predict: 0.5162341594696045\n"
     ]
    }
   ],
   "source": [
    "most_similar('say',word_to_id,id_to_word,word_vecs,top=5)"
   ]
  },
  {
   "cell_type": "code",
   "execution_count": 66,
   "metadata": {},
   "outputs": [
    {
     "name": "stdout",
     "output_type": "stream",
     "text": [
      "\n",
      "[query] i\n",
      " we: 0.6952572464942932\n",
      " you: 0.6890751123428345\n",
      " 'm: 0.6679012179374695\n",
      " 've: 0.589279055595398\n",
      " am: 0.5574151277542114\n"
     ]
    }
   ],
   "source": [
    "most_similar('i',word_to_id,id_to_word,word_vecs,top=5)"
   ]
  },
  {
   "cell_type": "code",
   "execution_count": 64,
   "metadata": {
    "scrolled": false
   },
   "outputs": [
    {
     "name": "stdout",
     "output_type": "stream",
     "text": [
      "\n",
      "[query] you\n",
      " i: 0.6890751123428345\n",
      " we: 0.6517750024795532\n",
      " anybody: 0.5681681632995605\n",
      " 'll: 0.5270262956619263\n",
      " do: 0.5212717056274414\n"
     ]
    }
   ],
   "source": [
    "most_similar('you',word_to_id,id_to_word,word_vecs,top=5)"
   ]
  },
  {
   "cell_type": "code",
   "execution_count": 65,
   "metadata": {},
   "outputs": [
    {
     "name": "stdout",
     "output_type": "stream",
     "text": [
      "\n",
      "[query] and\n",
      " <unk>: 0.6056305170059204\n",
      " for: 0.4883480966091156\n",
      " of: 0.46939677000045776\n",
      " <eos>: 0.4557322859764099\n",
      " in: 0.45417022705078125\n"
     ]
    }
   ],
   "source": [
    "most_similar('and',word_to_id,id_to_word,word_vecs,top=5)"
   ]
  },
  {
   "cell_type": "code",
   "execution_count": 61,
   "metadata": {},
   "outputs": [
    {
     "name": "stdout",
     "output_type": "stream",
     "text": [
      "\n",
      "[query] N\n",
      " $: 0.6974402666091919\n",
      " cents: 0.6704565286636353\n",
      " million: 0.649509608745575\n",
      " average: 0.6329135894775391\n",
      " pence: 0.6022524833679199\n"
     ]
    }
   ],
   "source": [
    "most_similar('N',word_to_id,id_to_word,word_vecs,top=5)"
   ]
  },
  {
   "cell_type": "code",
   "execution_count": 62,
   "metadata": {},
   "outputs": [
    {
     "name": "stdout",
     "output_type": "stream",
     "text": [
      "\n",
      "[query] you\n",
      " i: 0.6890751123428345\n",
      " we: 0.6517750024795532\n",
      " anybody: 0.5681681632995605\n",
      " 'll: 0.5270262956619263\n",
      " do: 0.5212717056274414\n",
      "\n",
      "[query] year\n",
      " month: 0.6725155115127563\n",
      " february: 0.5919483304023743\n",
      " next: 0.5882875919342041\n",
      " earlier: 0.5833106637001038\n",
      " june: 0.5825566053390503\n",
      "\n",
      "[query] car\n",
      " luxury: 0.6820144653320312\n",
      " auto: 0.6044037938117981\n",
      " corsica: 0.5867443084716797\n",
      " cars: 0.5632621645927429\n",
      " gm: 0.49659132957458496\n",
      "\n",
      "[query] toyota\n",
      " motor: 0.7214187383651733\n",
      " nissan: 0.6557305455207825\n",
      " motors: 0.6472770571708679\n",
      " honda: 0.6228241920471191\n",
      " lexus: 0.622809648513794\n"
     ]
    }
   ],
   "source": [
    "querys = ['you','year','car','toyota']\n",
    "for query in querys:\n",
    "    most_similar(query,word_to_id,id_to_word,word_vecs,top=5)"
   ]
  }
 ],
 "metadata": {
  "kernelspec": {
   "display_name": "Python 3",
   "language": "python",
   "name": "python3"
  },
  "language_info": {
   "codemirror_mode": {
    "name": "ipython",
    "version": 3
   },
   "file_extension": ".py",
   "mimetype": "text/x-python",
   "name": "python",
   "nbconvert_exporter": "python",
   "pygments_lexer": "ipython3",
   "version": "3.7.4"
  }
 },
 "nbformat": 4,
 "nbformat_minor": 2
}
