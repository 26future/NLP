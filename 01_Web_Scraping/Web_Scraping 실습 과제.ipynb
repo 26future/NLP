{
 "cells": [
  {
   "cell_type": "markdown",
   "metadata": {},
   "source": [
    "# 네이버, 다음 뉴스 클리핑 실습 과제"
   ]
  },
  {
   "cell_type": "markdown",
   "metadata": {},
   "source": [
    "### 1. 네이버 뉴스"
   ]
  },
  {
   "cell_type": "code",
   "execution_count": 62,
   "metadata": {
    "scrolled": false
   },
   "outputs": [
    {
     "name": "stdout",
     "output_type": "stream",
     "text": [
      "http://yna.kr/AKR20201005011051071?did=1195m\n",
      "트럼프, 코로나 입원중 깜짝외출 '돌출행동'…\"미친 짓\" 비판론(종합)\n",
      "차에서 지지자에 손흔든 뒤 복귀…영상에선 \"많이 배웠다\"며 지지호소 \"14일 격리 준수사항 안지켜\" 지적…\"동승 경호원 위험에 빠뜨려\" 비난 쇄도 류지복 특파원 = 신종 코로나바이러스 감염증(코로나19)으로 입원 중인...\n",
      "연합뉴스언론사 선정  8시간 전  네이버뉴스   \n",
      "\n",
      "\n",
      "http://www.hani.co.kr/arti/society/health/964397.html\n",
      "코로나 신규 확진자 73명…닷새째 두 자릿수\n",
      "5일 코로나19 신규 확진자가 73명 발생해 닷새째 두 자릿수를 유지했다. 중앙방역대책본부(방대본)는 이날 0시 기준으로 코로나19 국내 발생 신규 확진자는 64명, 국외유입 사례는 9명이라고 밝혔다. 이에 따른...\n",
      "한겨레언론사 선정  7시간 전  네이버뉴스   \n",
      "\n",
      "\n",
      "https://imnews.imbc.com/news/2020/society/article/5930451_32633.html\n",
      "코로나19 어제 73명 신규확진, 닷새째 두 자릿수…지역발생 64명\n",
      "중앙방역대책본부는 오늘 0시 기준 국내 코로나19 신규 확진자가 전날보다 9명 늘어 73명으로 집계됐다고 밝혔습니다. 신규 확진자 중 64명은 지역발생, 9명은 해외 유입 사례입니다. 이로써 하루 확진자 수는 5일째...\n",
      "MBC언론사 선정  7시간 전  네이버뉴스   \n",
      "\n",
      "\n",
      "https://biz.chosun.com/site/data/html_dir/2020/10/05/2020100501827.html?utm_source=naver&utm_medium=original&utm_campaign=biz\n",
      "국내 코로나 관련 소아 다기관염증증후군 2건 확인(종합)\n",
      "코로나 바이러스 감염증과 관련한 소아·청소년 다기관염증증후군이 2건 확인됐다. 다기관염증증후군은 코로나로 인한 면역 이상반응이 원인으로 꼽힌다. 발병 매커니즘이 정확하게 파악되지 않아 ‘어린이 괴질’...\n",
      "조선비즈언론사 선정  2시간 전  네이버뉴스   \n",
      "\n",
      "\n",
      "http://www.busan.com/view/busan/view.php?code=2020100514125286183\n",
      "[속보] '어린이 괴질' 소아 다기관염증증후군 환자 2명 첫 확인… 코로나19 연...\n",
      "5일 서울 용산구 보건소 코로나19 선별진료소를 찾은 시민들이 검사를 기다리고 있다. 연합뉴스 국내에서... 환자 2명은 11세와 12세 남자아이로, 신종 코로나바이러스 감염증(코로나19) 양성 판정 또는 접촉력이 있는...\n",
      "부산일보언론사 선정  2시간 전  네이버뉴스   \n",
      "\n",
      "\n"
     ]
    }
   ],
   "source": [
    "import requests\n",
    "from bs4 import BeautifulSoup\n",
    "\n",
    "# 네이버 뉴스 사이트: 검색어로 '코로나'를 입력\n",
    "search_url = \"https://search.naver.com/search.naver?query=%EC%BD%94%EB%A1%9C%EB%82%98&where=news&ie=utf8&sm=nws_hty\"\n",
    "\n",
    "resp = requests.get(search_url)\n",
    "html_src = resp.text\n",
    "soup = BeautifulSoup(html_src, \"html.parser\")\n",
    "\n",
    "news_items = soup.select('li > dl')\n",
    "# print(len(news_items))\n",
    "\n",
    "for item in news_items[:5]:\n",
    "    \n",
    "    # 1. link\n",
    "    news_link = item.select('dl > dt > a')[0].get('href')\n",
    "    print(news_link)\n",
    "    \n",
    "    # 2. title\n",
    "    news_title = item.find('a', attrs={\"class\":\"_sp_each_title\"}).text\n",
    "    print(news_title)\n",
    "    \n",
    "    # 3. content\n",
    "    news_content = item.select('dl > dd:nth-child(3)')[0].text\n",
    "    print(news_content)\n",
    "    \n",
    "    # 4. agency & time\n",
    "    news_info = item.find('dd', attrs={\"class\":\"txt_inline\"}).text[:-5]\n",
    "    print(news_info)\n",
    "    \n",
    "    \n",
    "    print('\\n')"
   ]
  },
  {
   "cell_type": "markdown",
   "metadata": {},
   "source": [
    "### 2. 다음 뉴스"
   ]
  },
  {
   "cell_type": "code",
   "execution_count": 78,
   "metadata": {},
   "outputs": [
    {
     "name": "stdout",
     "output_type": "stream",
     "text": [
      "http://v.media.daum.net/v/20201005164419223?f=o\n",
      " 셀트리온, 코로나 치료제 개발도 바쁜데.. 국내 임상시험자 확보 ... \n",
      "셀트리온(068270)이 지난달 식품의약품안전처로부터 코로나19 치료제 임상 2·3상 시험을 승인받았지만, 아직 국내 대상자를 모집하지 못한 것으로 전해졌다. 서정진...\n",
      " 3분전   조선비즈   다음뉴스 \n",
      "\n",
      "\n",
      "http://v.media.daum.net/v/20201005164015110?f=o\n",
      " 코로나19 젊은층 심장에 영향줄 수 있어 \n",
      "부본부장은 3일 정례브리핑에서 노년 층이 아닌 젊은층에서도 신종 코로나바이러스 감염증(COVID-19·코로나19)의 합병증이 보고되고 있다며 이 부분에 대한 연구가 필요...\n",
      " 7분전   동아사이언스   다음뉴스 \n",
      "\n",
      "\n",
      "http://v.media.daum.net/v/20201005163751011?f=o\n",
      " 동·서독 가른 코로나..고령화·저성장이 코로나 막았다 \n",
      "등 오랫동안 옛 동독 지역의 ‘약점’으로 지목돼 온 요소들이 옛 서독 지역 대비 코로나19 피해를 현저히 낮추는 데 결정적인 역할을 했다는 분석이 나왔다. 미국 월...\n",
      " 10분전   국민일보   다음뉴스 \n",
      "\n",
      "\n",
      "http://v.media.daum.net/v/20201005164258189?f=o\n",
      " 충북 광역정신센터 상담 32%↑..'코로나 블루' 대책 시급 \n",
      "(청주=연합뉴스) 전창해 기자 = 충북도가 '코로나 블루' 극복을 위한 대책 마련에 나선다. 이시종 충북지사 [충북도 제공. 재판매 및 DB 금지] 코로나 블루는 신종 코로나...\n",
      " 4분전   연합뉴스   다음뉴스 \n",
      "\n",
      "\n",
      "http://v.media.daum.net/v/20201005163602938?f=o\n",
      " 셀리드, LG화학과 코로나19 백신 개발·생산·상업화 협약 \n",
      "협력 협약을 체결했다. (사진=셀리드) 항암면역치료백신 개발 전문기업 셀리드가 코로나19 백신 개발과 생산을 위한 협력체계 구축과 상업화 촉진을 위해 LG화학과 상호협력...\n",
      " 11분전   전자신문   다음뉴스 \n",
      "\n",
      "\n"
     ]
    }
   ],
   "source": [
    "# 다음 뉴스 사이트: 검색어로 '코로나'를 입력\n",
    "search_url = \"https://search.daum.net/search?w=news&nil_search=btn&DA=NTB&enc=utf8&cluster=y&cluster_page=1&q=%EC%BD%94%EB%A1%9C%EB%82%98\"\n",
    "\n",
    "resp = requests.get(search_url)\n",
    "html_src = resp.text\n",
    "soup = BeautifulSoup(html_src, 'html.parser')\n",
    "\n",
    "news_items = soup.select('div.wrap_cont > div')\n",
    "# print(len(news_items))\n",
    "\n",
    "for item in news_items[:5]:\n",
    "    # 1. link\n",
    "    news_link = item.find('a').get('href')\n",
    "    print(news_link)\n",
    "    \n",
    "    # 2. title\n",
    "    news_title = item.find('div', attrs={\"class\":\"wrap_tit mg_tit\"}).text\n",
    "    print(news_title)\n",
    "    \n",
    "    # 3. content\n",
    "    news_content = item.find('p', attrs={\"class\":\"f_eb desc\"}).text\n",
    "    print(news_content)\n",
    "    \n",
    "    # 4. agency&time\n",
    "    news_info = item.find('span').text.split(\"|\")\n",
    "    print(news_info[0],news_info[1],news_info[2])\n",
    "    \n",
    "    print('\\n')"
   ]
  }
 ],
 "metadata": {
  "kernelspec": {
   "display_name": "Python 3",
   "language": "python",
   "name": "python3"
  },
  "language_info": {
   "codemirror_mode": {
    "name": "ipython",
    "version": 3
   },
   "file_extension": ".py",
   "mimetype": "text/x-python",
   "name": "python",
   "nbconvert_exporter": "python",
   "pygments_lexer": "ipython3",
   "version": "3.7.4"
  }
 },
 "nbformat": 4,
 "nbformat_minor": 2
}
