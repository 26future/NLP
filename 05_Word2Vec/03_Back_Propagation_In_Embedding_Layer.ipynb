{
 "cells": [
  {
   "cell_type": "markdown",
   "metadata": {},
   "source": [
    "## Embedding 계층 구현"
   ]
  },
  {
   "cell_type": "markdown",
   "metadata": {},
   "source": [
    "### Word Embedding\n",
    "http://doc.mindscale.kr/km/unstructured/11.html"
   ]
  },
  {
   "cell_type": "code",
   "execution_count": 1,
   "metadata": {},
   "outputs": [
    {
     "data": {
      "text/plain": [
       "array([[ 0,  1,  2],\n",
       "       [ 3,  4,  5],\n",
       "       [ 6,  7,  8],\n",
       "       [ 9, 10, 11],\n",
       "       [12, 13, 14],\n",
       "       [15, 16, 17],\n",
       "       [18, 19, 20]])"
      ]
     },
     "execution_count": 1,
     "metadata": {},
     "output_type": "execute_result"
    }
   ],
   "source": [
    "import numpy as np\n",
    "\n",
    "W = np.arange(21).reshape(7,3)\n",
    "W"
   ]
  },
  {
   "cell_type": "code",
   "execution_count": 2,
   "metadata": {},
   "outputs": [
    {
     "data": {
      "text/plain": [
       "array([6, 7, 8])"
      ]
     },
     "execution_count": 2,
     "metadata": {},
     "output_type": "execute_result"
    }
   ],
   "source": [
    "W[2]"
   ]
  },
  {
   "cell_type": "code",
   "execution_count": 3,
   "metadata": {},
   "outputs": [
    {
     "data": {
      "text/plain": [
       "array([15, 16, 17])"
      ]
     },
     "execution_count": 3,
     "metadata": {},
     "output_type": "execute_result"
    }
   ],
   "source": [
    "W[5]"
   ]
  },
  {
   "cell_type": "code",
   "execution_count": 4,
   "metadata": {},
   "outputs": [
    {
     "name": "stdout",
     "output_type": "stream",
     "text": [
      "idx:  [1 0 3 0]\n",
      "[[ 3  4  5]\n",
      " [ 0  1  2]\n",
      " [ 9 10 11]\n",
      " [ 0  1  2]]\n"
     ]
    },
    {
     "data": {
      "text/plain": [
       "array([[ 3,  4,  5],\n",
       "       [ 0,  1,  2],\n",
       "       [ 9, 10, 11],\n",
       "       [ 0,  1,  2]])"
      ]
     },
     "execution_count": 4,
     "metadata": {},
     "output_type": "execute_result"
    }
   ],
   "source": [
    "# 행렬에서 특정 층을 추출\n",
    "idx = np.array([1,0,3,0])\n",
    "print('idx: ', idx)\n",
    "print(W[idx])\n",
    "W[[1,0,3,0]]  # Fancy Indexing"
   ]
  },
  {
   "cell_type": "code",
   "execution_count": 5,
   "metadata": {},
   "outputs": [],
   "source": [
    "class Embedding :\n",
    "    def __init__(self, W):\n",
    "        self.params = [W]\n",
    "        self.grads = [np.zeros_like(W)]\n",
    "        self.idx = None\n",
    "    \n",
    "    # 순전파\n",
    "    def forward(self,idx):\n",
    "        W, = self.params\n",
    "        self.idx = idx\n",
    "        out = W[idx]\n",
    "        return out\n",
    "    \n",
    "    # 역전파\n",
    "    def backward_1(self, dout):  # 먼저 쓰여진 값을 덮어쓴다 , 중복 문제 발생, 좋지 않은 구현\n",
    "        dW, = self.grads\n",
    "        dW[...] = 0\n",
    "        dW[self.idx] = dout\n",
    "        return None       \n",
    "\n",
    "    def backward_2(self, dout):  # 중복 인덱스가 있어도 올바르게 처리 , for문 사용으로 속도가 느림\n",
    "        dW, = self.grads\n",
    "        dW[...] = 0\n",
    "        for i, word_id in enumerate(self.idx):  # 4회, idx : [0,2,0,4]\n",
    "            dW[word_id] += dout[i]\n",
    "        return None       \n",
    "    \n",
    "    def backward(self, dout):  # 중복 인덱스가 있어도 올바르게 처리, 속도가 빠름\n",
    "        dW, = self.grads\n",
    "        dW[...] = 0\n",
    "        np.add.at(dW, self.idx, dout)  # for문을 사용하지 않음\n",
    "        return None"
   ]
  },
  {
   "cell_type": "code",
   "execution_count": 6,
   "metadata": {},
   "outputs": [
    {
     "name": "stdout",
     "output_type": "stream",
     "text": [
      "W:\n",
      " [[ 0  1  2]\n",
      " [ 3  4  5]\n",
      " [ 6  7  8]\n",
      " [ 9 10 11]\n",
      " [12 13 14]]\n",
      "out:\n",
      " [[ 0  1  2]\n",
      " [ 6  7  8]\n",
      " [ 0  1  2]\n",
      " [12 13 14]]\n"
     ]
    }
   ],
   "source": [
    "W = np.arange(15).reshape(5,3)\n",
    "print('W:\\n', W)\n",
    "\n",
    "e = Embedding(W)\n",
    "idx = [0,2,0,4]\n",
    "\n",
    "# 순전파 호출 : 순전파에서는 index가 중복되어도 문제 없음\n",
    "out = e.forward(idx)\n",
    "print('out:\\n',out)"
   ]
  },
  {
   "cell_type": "code",
   "execution_count": 7,
   "metadata": {},
   "outputs": [
    {
     "name": "stdout",
     "output_type": "stream",
     "text": [
      "dout:\n",
      " [[ 0  1  2]\n",
      " [ 3  4  5]\n",
      " [ 6  7  8]\n",
      " [ 9 10 11]]\n",
      "grads:\n",
      " [array([[0, 0, 0],\n",
      "       [0, 0, 0],\n",
      "       [0, 0, 0],\n",
      "       [0, 0, 0],\n",
      "       [0, 0, 0]])]\n",
      "grads:\n",
      " [array([[ 6,  7,  8],\n",
      "       [ 0,  0,  0],\n",
      "       [ 3,  4,  5],\n",
      "       [ 0,  0,  0],\n",
      "       [ 9, 10, 11]])]\n"
     ]
    }
   ],
   "source": [
    "# 역전파 호출 : backward_1\n",
    "dout = np.arange(12).reshape(4,3) # 3: W.shape[1]와 같은 값이어야한다\n",
    "print('dout:\\n',dout)\n",
    "print('grads:\\n',e.grads)\n",
    "\n",
    "# idx : [0,2,0,4]\n",
    "e.backward_1(dout)    # 중복 문제 발생, 좋지 않은 구현\n",
    "print('grads:\\n',e.grads)"
   ]
  },
  {
   "cell_type": "code",
   "execution_count": 8,
   "metadata": {},
   "outputs": [
    {
     "name": "stdout",
     "output_type": "stream",
     "text": [
      "dout:\n",
      " [[ 0  1  2]\n",
      " [ 3  4  5]\n",
      " [ 6  7  8]\n",
      " [ 9 10 11]]\n",
      "grads:\n",
      " [array([[ 6,  7,  8],\n",
      "       [ 0,  0,  0],\n",
      "       [ 3,  4,  5],\n",
      "       [ 0,  0,  0],\n",
      "       [ 9, 10, 11]])]\n",
      "grads:\n",
      " [array([[ 6,  8, 10],\n",
      "       [ 0,  0,  0],\n",
      "       [ 3,  4,  5],\n",
      "       [ 0,  0,  0],\n",
      "       [ 9, 10, 11]])]\n"
     ]
    }
   ],
   "source": [
    "# 역전파 호출 : backward_2\n",
    "dout = np.arange(12).reshape(4,3) # 3: W.shape[1]와 같은 값이어야한다\n",
    "print('dout:\\n',dout)\n",
    "print('grads:\\n',e.grads)\n",
    "\n",
    "# idx : [0,2,0,4]\n",
    "e.backward_2(dout)    # 중복 인덱스가 있어도 올바르게 처리\n",
    "print('grads:\\n',e.grads)"
   ]
  },
  {
   "cell_type": "code",
   "execution_count": 9,
   "metadata": {},
   "outputs": [
    {
     "name": "stdout",
     "output_type": "stream",
     "text": [
      "dout:\n",
      " [[ 0  1  2]\n",
      " [ 3  4  5]\n",
      " [ 6  7  8]\n",
      " [ 9 10 11]]\n",
      "grads:\n",
      " [array([[ 6,  8, 10],\n",
      "       [ 0,  0,  0],\n",
      "       [ 3,  4,  5],\n",
      "       [ 0,  0,  0],\n",
      "       [ 9, 10, 11]])]\n",
      "grads:\n",
      " [array([[ 6,  8, 10],\n",
      "       [ 0,  0,  0],\n",
      "       [ 3,  4,  5],\n",
      "       [ 0,  0,  0],\n",
      "       [ 9, 10, 11]])]\n"
     ]
    }
   ],
   "source": [
    "# 역전파 호출 : backward\n",
    "dout = np.arange(12).reshape(4,3) # 3: W.shape[1]와 같은 값이어야한다\n",
    "print('dout:\\n',dout)\n",
    "print('grads:\\n',e.grads)\n",
    "\n",
    "# idx : [0,2,0,4]\n",
    "e.backward(dout)    # 중복 인덱스가 있어도 올바르게 처리, 속도가 빠름\n",
    "print('grads:\\n',e.grads)"
   ]
  },
  {
   "cell_type": "code",
   "execution_count": 10,
   "metadata": {},
   "outputs": [
    {
     "name": "stdout",
     "output_type": "stream",
     "text": [
      "A:\n",
      " [[ 0  1  2]\n",
      " [ 3  4  5]\n",
      " [ 6  7  8]\n",
      " [ 9 10 11]\n",
      " [12 13 14]\n",
      " [15 16 17]]\n",
      "B:\n",
      " [[ 0  1  2]\n",
      " [ 3  4  5]\n",
      " [ 6  7  8]\n",
      " [ 9 10 11]]\n",
      "result:\n",
      " [[ 3  6  9]\n",
      " [ 3  4  5]\n",
      " [ 6  7  8]\n",
      " [15 17 19]\n",
      " [12 13 14]\n",
      " [24 26 28]]\n"
     ]
    }
   ],
   "source": [
    "# np.add.at(A,idx,B) : A배열의 idx 위치에 B배열의 원소 순서대로 더하기, A값 변함\n",
    "# https://rfriend.tistory.com/m/545\n",
    "\n",
    "A = np.arange(18).reshape(6, 3)\n",
    "print('A:\\n',A)\n",
    "B = np.arange(12).reshape(4, 3)\n",
    "print('B:\\n',B)\n",
    "idx = np.array([0, 0, 3, 5])\n",
    "np.add.at(A, idx, B)\n",
    "\n",
    "print('result:\\n',A)"
   ]
  }
 ],
 "metadata": {
  "kernelspec": {
   "display_name": "Python 3",
   "language": "python",
   "name": "python3"
  },
  "language_info": {
   "codemirror_mode": {
    "name": "ipython",
    "version": 3
   },
   "file_extension": ".py",
   "mimetype": "text/x-python",
   "name": "python",
   "nbconvert_exporter": "python",
   "pygments_lexer": "ipython3",
   "version": "3.7.4"
  }
 },
 "nbformat": 4,
 "nbformat_minor": 2
}
