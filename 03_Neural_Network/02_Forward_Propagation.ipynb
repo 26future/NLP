{
 "cells": [
  {
   "cell_type": "markdown",
   "metadata": {},
   "source": [
    "# 미니배치 버전 파이썬 구현"
   ]
  },
  {
   "cell_type": "code",
   "execution_count": 1,
   "metadata": {},
   "outputs": [
    {
     "data": {
      "text/plain": [
       "array([[0.28302656, 0.58173863],\n",
       "       [0.09364822, 0.59912827],\n",
       "       [0.91301446, 0.36201336],\n",
       "       [0.80011085, 0.49343053],\n",
       "       [0.01159919, 0.71319045],\n",
       "       [0.82287515, 0.72588161],\n",
       "       [0.55014275, 0.33026651],\n",
       "       [0.2751846 , 0.77324223],\n",
       "       [0.98542902, 0.90609763],\n",
       "       [0.7327772 , 0.77577582]])"
      ]
     },
     "execution_count": 1,
     "metadata": {},
     "output_type": "execute_result"
    }
   ],
   "source": [
    "import numpy as np\n",
    "\n",
    "X = np.random.rand(10,2)\n",
    "X"
   ]
  },
  {
   "cell_type": "code",
   "execution_count": 3,
   "metadata": {},
   "outputs": [
    {
     "data": {
      "text/plain": [
       "array([[0.59598215, 0.89082106, 0.35319665, 0.4465849 ],\n",
       "       [0.05508001, 0.27488408, 0.28024292, 0.37566034]])"
      ]
     },
     "execution_count": 3,
     "metadata": {},
     "output_type": "execute_result"
    }
   ],
   "source": [
    "W1 = np.random.rand(2,4)\n",
    "W1"
   ]
  },
  {
   "cell_type": "code",
   "execution_count": 4,
   "metadata": {},
   "outputs": [
    {
     "data": {
      "text/plain": [
       "array([0.33055091, 0.84781233, 0.66556899, 0.27488686])"
      ]
     },
     "execution_count": 4,
     "metadata": {},
     "output_type": "execute_result"
    }
   ],
   "source": [
    "b1 = np.random.rand(4)\n",
    "b1"
   ]
  },
  {
   "cell_type": "code",
   "execution_count": 5,
   "metadata": {},
   "outputs": [
    {
     "data": {
      "text/plain": [
       "array([[0.53127186, 1.25984903, 0.92856116, 0.61981837],\n",
       "       [0.41936357, 1.09592695, 0.86654668, 0.54177746],\n",
       "       [0.89463093, 1.76065655, 1.08949432, 0.81861939],\n",
       "       [0.83458085, 1.69620412, 1.08644587, 0.81756656],\n",
       "       [0.37674636, 1.05418983, 0.86953236, 0.54798425],\n",
       "       [0.86095138, 1.78038014, 1.15962892, 0.9150554 ],\n",
       "       [0.67661725, 1.42867608, 0.95243242, 0.64464033],\n",
       "       [0.53714621, 1.30550454, 0.97945893, 0.68825658],\n",
       "       [0.96775688, 1.97472506, 1.26754666, 1.05534952],\n",
       "       [0.81000278, 1.71383411, 1.14178912, 0.8935623 ]])"
      ]
     },
     "execution_count": 5,
     "metadata": {},
     "output_type": "execute_result"
    }
   ],
   "source": [
    "H = np.matmul(X,W1) + b1\n",
    "H"
   ]
  },
  {
   "cell_type": "markdown",
   "metadata": {},
   "source": [
    "# Sigmoid 함수"
   ]
  },
  {
   "cell_type": "code",
   "execution_count": 6,
   "metadata": {},
   "outputs": [],
   "source": [
    "def sigmoid(x):\n",
    "    return 1 / (1 + np.exp(-x))"
   ]
  },
  {
   "cell_type": "code",
   "execution_count": 7,
   "metadata": {},
   "outputs": [
    {
     "data": {
      "text/plain": [
       "<Figure size 640x480 with 1 Axes>"
      ]
     },
     "metadata": {},
     "output_type": "display_data"
    }
   ],
   "source": [
    "import matplotlib.pyplot as plt\n",
    "zs = np.arange(-10,10,0.1)\n",
    "gs = [sigmoid(z) for z in zs]\n",
    "plt.plot(zs,gs)\n",
    "plt.xlabel('z')   # z = - (X*W + b)\n",
    "plt.ylabel('1/(1+e^z)')\n",
    "plt.show()"
   ]
  },
  {
   "cell_type": "code",
   "execution_count": 8,
   "metadata": {},
   "outputs": [
    {
     "data": {
      "text/plain": [
       "array([[0.71876094, 0.6577896 , 0.74596668, 0.79015043],\n",
       "       [0.70202376, 0.63702138, 0.67547144, 0.71414539],\n",
       "       [0.71315894, 0.64747981, 0.75865647, 0.80100575],\n",
       "       [0.70153165, 0.63556225, 0.68337875, 0.72217239],\n",
       "       [0.7427711 , 0.69348366, 0.77916591, 0.82787851],\n",
       "       [0.73727675, 0.68916468, 0.72963667, 0.77949014],\n",
       "       [0.64683697, 0.55952349, 0.54787327, 0.55722145],\n",
       "       [0.71813757, 0.65967899, 0.71403092, 0.7584477 ],\n",
       "       [0.71932268, 0.65923361, 0.74025618, 0.78472756],\n",
       "       [0.71517095, 0.66092099, 0.64059752, 0.68220424]])"
      ]
     },
     "execution_count": 8,
     "metadata": {},
     "output_type": "execute_result"
    }
   ],
   "source": [
    "# 1 Layer Logistic Regression(Binary classification)\n",
    "X = np.random.rand(10,2)\n",
    "W1 = np.random.rand(2,4)\n",
    "b1 = np.random.rand(4)\n",
    "a = np.matmul(X,W1) + b1\n",
    "h = sigmoid(a)\n",
    "h"
   ]
  },
  {
   "cell_type": "code",
   "execution_count": 9,
   "metadata": {},
   "outputs": [
    {
     "data": {
      "text/plain": [
       "array([[0.93532857, 0.77972063, 0.745988  ],\n",
       "       [0.93756147, 0.78315943, 0.74911883],\n",
       "       [0.93148085, 0.77086542, 0.73769332],\n",
       "       [0.94333003, 0.79202863, 0.75740773],\n",
       "       [0.93578061, 0.77758639, 0.74369121],\n",
       "       [0.93744781, 0.78127135, 0.74717536],\n",
       "       [0.93692792, 0.78178854, 0.74781731],\n",
       "       [0.94069093, 0.78684175, 0.75237254],\n",
       "       [0.93803481, 0.77954197, 0.74522634],\n",
       "       [0.94059103, 0.78745247, 0.75304113]])"
      ]
     },
     "execution_count": 9,
     "metadata": {},
     "output_type": "execute_result"
    }
   ],
   "source": [
    "# 2 Layer Logistic Regression(Binary classification)\n",
    "X = np.random.rand(10,2)\n",
    "W1 = np.random.rand(2,4)\n",
    "b1 = np.random.rand(4)\n",
    "\n",
    "W2 = np.random.rand(4,3)\n",
    "b2 = np.random.rand(3)\n",
    "\n",
    "# layer1\n",
    "a1 = np.matmul(X,W1) + b1\n",
    "s1 = sigmoid(a1)\n",
    "\n",
    "# layer2\n",
    "a2 = np.matmul(s1,W2) + b2\n",
    "h = sigmoid(a2)\n",
    "h"
   ]
  },
  {
   "cell_type": "markdown",
   "metadata": {},
   "source": [
    "## 계층으로 클래스화 및 순전파 구현"
   ]
  },
  {
   "cell_type": "code",
   "execution_count": 10,
   "metadata": {},
   "outputs": [],
   "source": [
    "# sigmoid layer의 순전파 구현\n",
    "class Sigmoid:\n",
    "    def __init__(self):\n",
    "        self.params = []\n",
    "        \n",
    "    def forward(self,x):\n",
    "        return 1 / (1 + np.exp(-x))\n",
    "\n",
    "# H(x) = W*X + b     \n",
    "class Affine: # 행렬의 내적을 아핀(Affine) 변환이라고 하며, Affine 계층을 통해 이 변환을 수행처리함 \n",
    "    def __init__(self,W,b):\n",
    "        self.params = [W,b]\n",
    "        \n",
    "    def forward(self,x) :\n",
    "        W,b = self.params\n",
    "        out = np.dot(x,W) + b\n",
    "        return out"
   ]
  },
  {
   "cell_type": "code",
   "execution_count": 11,
   "metadata": {},
   "outputs": [],
   "source": [
    "#  모델 구현\n",
    "class TwoLayerNet:\n",
    "    def __init__(self,input_size,hidden_size,output_size):\n",
    "        I,H,O = input_size, hidden_size, output_size\n",
    "        \n",
    "        # Weight 과 bias 초기화\n",
    "        W1 = np.random.rand(I,H)\n",
    "        b1 = np.random.rand(H)\n",
    "        \n",
    "        W2 = np.random.rand(H,O)\n",
    "        b2 = np.random.rand(O)\n",
    "        \n",
    "        # 계층 생성\n",
    "        self.layers = [\n",
    "            Affine(W1,b1),\n",
    "            Sigmoid(),\n",
    "            Affine(W2,b2),\n",
    "            Sigmoid(),            \n",
    "        ]\n",
    "        \n",
    "        self.params = []\n",
    "        for layer in self.layers:\n",
    "            self.params += layer.params\n",
    "            \n",
    "    def predict(self,x):\n",
    "        for layer in self.layers:\n",
    "            x = layer.forward(x)\n",
    "        return x\n",
    "    \n",
    "# t = TwoLayerNet(2,4,3) \n",
    "# t.params"
   ]
  },
  {
   "cell_type": "code",
   "execution_count": 12,
   "metadata": {},
   "outputs": [
    {
     "data": {
      "text/plain": [
       "['W1', 'b1', 'W2', 'b2']"
      ]
     },
     "execution_count": 12,
     "metadata": {},
     "output_type": "execute_result"
    }
   ],
   "source": [
    "# 모든 가중치를 모은다\n",
    "#         self.params = []\n",
    "#         for layer in self.layers:\n",
    "#             self.params += layer.params\n",
    "a = ['W1','b1']\n",
    "a += ['W2','b2']\n",
    "a"
   ]
  },
  {
   "cell_type": "code",
   "execution_count": 13,
   "metadata": {},
   "outputs": [
    {
     "name": "stdout",
     "output_type": "stream",
     "text": [
      "[[0.80204763 0.88051137 0.68057435]\n",
      " [0.78815855 0.86999717 0.67345346]\n",
      " [0.8022641  0.8805072  0.68016977]\n",
      " [0.77591681 0.86000028 0.66596115]\n",
      " [0.75658499 0.84529533 0.65706507]\n",
      " [0.79169286 0.87254719 0.67493575]\n",
      " [0.81355586 0.8891609  0.68603557]\n",
      " [0.76535135 0.85210388 0.66130164]\n",
      " [0.80590685 0.88308442 0.68125692]\n",
      " [0.78366732 0.86614821 0.67023629]] (10, 3)\n"
     ]
    }
   ],
   "source": [
    "X = np.random.rand(10,2)\n",
    "model = TwoLayerNet(2,4,3) # shape을 정확히 맞추어 설정\n",
    "# 여기에서는 학습 수행 부분은 없음\n",
    "# random 값을 그대로 가중치(파라메터)로 사용\n",
    "s = model.predict(X)\n",
    "print(s,s.shape)"
   ]
  },
  {
   "cell_type": "code",
   "execution_count": 14,
   "metadata": {},
   "outputs": [
    {
     "data": {
      "text/plain": [
       "[array([[0.24937251, 0.3680599 , 0.52133519, 0.93542998],\n",
       "        [0.13263235, 0.96067397, 0.92139969, 0.86622496]]),\n",
       " array([0.85131445, 0.74543477, 0.24266289, 0.91771646]),\n",
       " array([[0.18156812, 0.54230984, 0.15001193],\n",
       "        [0.38093331, 0.5061819 , 0.3755548 ],\n",
       "        [0.61910424, 0.82575112, 0.17456437],\n",
       "        [0.51775179, 0.25314427, 0.04833291]]),\n",
       " array([0.01263813, 0.31069537, 0.15086985])]"
      ]
     },
     "execution_count": 14,
     "metadata": {},
     "output_type": "execute_result"
    }
   ],
   "source": [
    "model.params"
   ]
  },
  {
   "cell_type": "code",
   "execution_count": null,
   "metadata": {},
   "outputs": [],
   "source": []
  }
 ],
 "metadata": {
  "kernelspec": {
   "display_name": "Python 3",
   "language": "python",
   "name": "python3"
  },
  "language_info": {
   "codemirror_mode": {
    "name": "ipython",
    "version": 3
   },
   "file_extension": ".py",
   "mimetype": "text/x-python",
   "name": "python",
   "nbconvert_exporter": "python",
   "pygments_lexer": "ipython3",
   "version": "3.7.4"
  }
 },
 "nbformat": 4,
 "nbformat_minor": 2
}
